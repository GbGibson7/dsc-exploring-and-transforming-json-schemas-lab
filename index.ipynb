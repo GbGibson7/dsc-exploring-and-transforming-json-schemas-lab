{
 "cells": [
  {
   "cell_type": "markdown",
   "metadata": {},
   "source": [
    "# Exploring and Transforming JSON Schemas - Lab"
   ]
  },
  {
   "cell_type": "markdown",
   "metadata": {},
   "source": [
    "# Introduction\n",
    "\n",
    "In this lab, you'll practice exploring a JSON file whose structure and schema is unknown to you. We will provide you with limited information, and you will explore the dataset to answer the specified question."
   ]
  },
  {
   "cell_type": "markdown",
   "metadata": {},
   "source": [
    "## Objectives\n",
    "\n",
    "You will be able to:\n",
    "\n",
    "* Use the `json` module to load and parse JSON documents\n",
    "* Explore and extract data using unknown JSON schemas\n",
    "* Convert JSON to a pandas dataframe"
   ]
  },
  {
   "cell_type": "markdown",
   "metadata": {},
   "source": [
    "## Your Task: Create a Bar Graph of the Top 10 States with the Highest Asthma Rates for Adults Age 18+\n",
    "\n",
    "The information you need to create this graph is located in `disease_data.json`. It contains both data and metadata.\n",
    "\n",
    "You are given the following codebook/data dictionary:\n",
    "\n",
    "* The actual data values are associated with the key `'DataValue'`\n",
    "* The state names are associated with the key `'LocationDesc'`\n",
    "* To filter to the appropriate records, make sure:\n",
    "  * The `'Question'` is `'Current asthma prevalence among adults aged >= 18 years'`\n",
    "  * The `'StratificationCategoryID1'` is `'OVERALL'`\n",
    "  * The `'DataValueTypeID'` is `'CRDPREV'`\n",
    "  * The `'LocationDesc'` is not `'United States'`\n",
    "  \n",
    "The provided JSON file contains both data and metadata, and you will need to parse the metadata in order to understand the meanings of the values in the data.\n",
    "\n",
    "No further information about the structure of this file is provided."
   ]
  },
  {
   "cell_type": "markdown",
   "metadata": {},
   "source": [
    "## Load the JSON File\n",
    "\n",
    "Load the data from the file `disease_data.json` into a variable `data`."
   ]
  },
  {
   "cell_type": "code",
   "execution_count": 5,
   "metadata": {},
   "outputs": [],
   "source": [
    "# Your code here \n",
    "import json\n",
    "\n",
    "with open('disease_data.json', 'r') as f:\n",
    "    data =json.load(f)\n",
    "#data"
   ]
  },
  {
   "cell_type": "markdown",
   "metadata": {},
   "source": [
    "## Explore the Overall Structure\n",
    "\n",
    "What is the overall data type of `data`?"
   ]
  },
  {
   "cell_type": "code",
   "execution_count": 19,
   "metadata": {},
   "outputs": [
    {
     "data": {
      "text/plain": [
       "dict"
      ]
     },
     "execution_count": 19,
     "metadata": {},
     "output_type": "execute_result"
    }
   ],
   "source": [
    "# Your code here\n",
    "type(data)"
   ]
  },
  {
   "cell_type": "markdown",
   "metadata": {},
   "source": [
    "What are the keys?"
   ]
  },
  {
   "cell_type": "code",
   "execution_count": 7,
   "metadata": {},
   "outputs": [
    {
     "data": {
      "text/plain": [
       "dict_keys(['meta', 'data'])"
      ]
     },
     "execution_count": 7,
     "metadata": {},
     "output_type": "execute_result"
    }
   ],
   "source": [
    "# Your code here\n",
    "data.keys()"
   ]
  },
  {
   "cell_type": "markdown",
   "metadata": {},
   "source": [
    "What are the data types associates with those keys?"
   ]
  },
  {
   "cell_type": "code",
   "execution_count": 15,
   "metadata": {},
   "outputs": [
    {
     "data": {
      "text/plain": [
       "list"
      ]
     },
     "execution_count": 15,
     "metadata": {},
     "output_type": "execute_result"
    }
   ],
   "source": [
    "# Your code here (data)\n",
    "type(data.get('data'))"
   ]
  },
  {
   "cell_type": "code",
   "execution_count": 16,
   "metadata": {},
   "outputs": [
    {
     "data": {
      "text/plain": [
       "dict"
      ]
     },
     "execution_count": 16,
     "metadata": {},
     "output_type": "execute_result"
    }
   ],
   "source": [
    "# Your code here (metadata)\n",
    "type(data.get('meta'))"
   ]
  },
  {
   "cell_type": "markdown",
   "metadata": {},
   "source": [
    "Perform additional exploration to understand the contents of these values. For dictionaries, what are their keys? For lists, what is the length, and what does the first element look like?"
   ]
  },
  {
   "cell_type": "code",
   "execution_count": null,
   "metadata": {},
   "outputs": [],
   "source": [
    "# Your code here (add additional cells as needed)"
   ]
  },
  {
   "cell_type": "markdown",
   "metadata": {},
   "source": [
    "Keys for Dictionaries"
   ]
  },
  {
   "cell_type": "code",
   "execution_count": 17,
   "metadata": {},
   "outputs": [
    {
     "data": {
      "text/plain": [
       "dict_keys(['view'])"
      ]
     },
     "execution_count": 17,
     "metadata": {},
     "output_type": "execute_result"
    }
   ],
   "source": [
    "keys_for_dictionaries = data.get('meta')\n",
    "keys_for_dictionaries.keys()"
   ]
  },
  {
   "cell_type": "markdown",
   "metadata": {},
   "source": [
    "For lists, what is the length?"
   ]
  },
  {
   "cell_type": "code",
   "execution_count": 21,
   "metadata": {},
   "outputs": [
    {
     "data": {
      "text/plain": [
       "60266"
      ]
     },
     "execution_count": 21,
     "metadata": {},
     "output_type": "execute_result"
    }
   ],
   "source": [
    "length_of_lists = len(data.get('data'))\n",
    "length_of_lists"
   ]
  },
  {
   "cell_type": "markdown",
   "metadata": {},
   "source": [
    "First element look"
   ]
  },
  {
   "cell_type": "code",
   "execution_count": 22,
   "metadata": {},
   "outputs": [
    {
     "data": {
      "text/plain": [
       "[1,\n",
       " 'FF49C41F-CE8D-46C4-9164-653B1227CF6F',\n",
       " 1,\n",
       " 1527194521,\n",
       " '959778',\n",
       " 1527194521,\n",
       " '959778',\n",
       " None,\n",
       " '2016',\n",
       " '2016',\n",
       " 'US',\n",
       " 'United States',\n",
       " 'BRFSS',\n",
       " 'Alcohol',\n",
       " 'Binge drinking prevalence among adults aged >= 18 years',\n",
       " None,\n",
       " '%',\n",
       " 'Crude Prevalence',\n",
       " '16.9',\n",
       " '16.9',\n",
       " '*',\n",
       " '50 States + DC: US Median',\n",
       " '16',\n",
       " '18',\n",
       " 'Overall',\n",
       " 'Overall',\n",
       " None,\n",
       " None,\n",
       " None,\n",
       " None,\n",
       " [None, None, None, None, None],\n",
       " None,\n",
       " '59',\n",
       " 'ALC',\n",
       " 'ALC2_2',\n",
       " 'CRDPREV',\n",
       " 'OVERALL',\n",
       " 'OVR',\n",
       " None,\n",
       " None,\n",
       " None,\n",
       " None]"
      ]
     },
     "execution_count": 22,
     "metadata": {},
     "output_type": "execute_result"
    }
   ],
   "source": [
    "first_element = data.get('data')\n",
    "first_element[0]"
   ]
  },
  {
   "cell_type": "markdown",
   "metadata": {},
   "source": [
    "As you likely identified, we have a list of lists forming the `'data'`. In order to make sense of that list of lists, we need to find the meaning of each index, i.e. the names of the columns.\n",
    "\n",
    "## Identify the Column Names\n",
    "\n",
    "Look through the metadata to find the *names* of the columns, and assign that variable to `column_names`. This should be a list of strings. (If you just get the values associated with the `'columns'` key, you will have a list of dictionaries, not a list of strings.)"
   ]
  },
  {
   "cell_type": "code",
   "execution_count": 66,
   "metadata": {},
   "outputs": [
    {
     "data": {
      "text/plain": [
       "['sid',\n",
       " 'id',\n",
       " 'position',\n",
       " 'created_at',\n",
       " 'created_meta',\n",
       " 'updated_at',\n",
       " 'updated_meta',\n",
       " 'meta',\n",
       " 'YearStart',\n",
       " 'YearEnd',\n",
       " 'LocationAbbr',\n",
       " 'LocationDesc',\n",
       " 'DataSource',\n",
       " 'Topic',\n",
       " 'Question',\n",
       " 'Response',\n",
       " 'DataValueUnit',\n",
       " 'DataValueType',\n",
       " 'DataValue',\n",
       " 'DataValueAlt',\n",
       " 'DataValueFootnoteSymbol',\n",
       " 'DatavalueFootnote',\n",
       " 'LowConfidenceLimit',\n",
       " 'HighConfidenceLimit',\n",
       " 'StratificationCategory1',\n",
       " 'Stratification1',\n",
       " 'StratificationCategory2',\n",
       " 'Stratification2',\n",
       " 'StratificationCategory3',\n",
       " 'Stratification3',\n",
       " 'GeoLocation',\n",
       " 'ResponseID',\n",
       " 'LocationID',\n",
       " 'TopicID',\n",
       " 'QuestionID',\n",
       " 'DataValueTypeID',\n",
       " 'StratificationCategoryID1',\n",
       " 'StratificationID1',\n",
       " 'StratificationCategoryID2',\n",
       " 'StratificationID2',\n",
       " 'StratificationCategoryID3',\n",
       " 'StratificationID3']"
      ]
     },
     "execution_count": 66,
     "metadata": {},
     "output_type": "execute_result"
    }
   ],
   "source": [
    "# Your code here (add additional cells as needed)\n",
    "meta = data['meta']\n",
    "meta_data = meta['view']\n",
    "column_data = meta_data['columns']\n",
    "column_names = [col['name'] for col in column_data]\n",
    "column_names"
   ]
  },
  {
   "cell_type": "markdown",
   "metadata": {},
   "source": [
    "The following code checks that you have the correct column names:"
   ]
  },
  {
   "cell_type": "code",
   "execution_count": 68,
   "metadata": {},
   "outputs": [],
   "source": [
    "# Run this cell without changes\n",
    "\n",
    "# 42 total columns\n",
    "assert len(column_names) == 42\n",
    "\n",
    "# Each name should be a string, not a dict\n",
    "assert type(column_names[0]) == str and type(column_names[-1]) == str\n",
    "\n",
    "# Check that we have some specific strings\n",
    "assert \"DataValue\" in column_names\n",
    "assert \"LocationDesc\" in column_names\n",
    "assert \"Question\" in column_names\n",
    "assert \"StratificationCategoryID1\" in column_names\n",
    "assert \"DataValueTypeID\" in column_names"
   ]
  },
  {
   "cell_type": "markdown",
   "metadata": {},
   "source": [
    "## Filter Rows Based on Columns\n",
    "\n",
    "Recall that we only want to include records where:\n",
    "\n",
    "* The `'Question'` is `'Current asthma prevalence among adults aged >= 18 years'`\n",
    "* The `'StratificationCategoryID1'` is `'OVERALL'`\n",
    "* The `'DataValueTypeID'` is `'CRDPREV'`\n",
    "* The `'LocationDesc'` is not `'United States'`\n",
    "\n",
    "Combining knowledge of the data and metadata, filter out the rows of data that are not relevant.\n",
    "\n",
    "(You may find the `pandas` library useful here.)"
   ]
  },
  {
   "cell_type": "code",
   "execution_count": 78,
   "metadata": {},
   "outputs": [
    {
     "data": {
      "text/plain": [
       "54"
      ]
     },
     "execution_count": 78,
     "metadata": {},
     "output_type": "execute_result"
    }
   ],
   "source": [
    "# Your code here (add additional cells as needed)\n",
    "import pandas as pd\n",
    "\n",
    "data_list = data['data']\n",
    "df = pd.DataFrame(data_list, columns = column_names)\n",
    "#df.head()\n",
    "\n",
    "filtered_df = df[\n",
    "    (df['Question'] == 'Current asthma prevalence among adults aged >= 18 years') &\n",
    "    (df['StratificationCategoryID1'] == 'OVERALL') & \n",
    "    (df['DataValueTypeID'] == 'CRDPREV') & \n",
    "    (df['LocationDesc'] != 'United States')\n",
    "]\n",
    "len(filtered_df)"
   ]
  },
  {
   "cell_type": "markdown",
   "metadata": {},
   "source": [
    "You should have 54 records after filtering.\n",
    "\n",
    "## Extract the Attributes Required for Plotting\n",
    "\n",
    "For each record, the only information we actually need for the graph is the `'DataValue'` and `'LocationDesc'`. Create a list of records that only contains these two attributes.\n",
    "\n",
    "Also, make sure that the data values are numbers, not strings."
   ]
  },
  {
   "cell_type": "code",
   "execution_count": 79,
   "metadata": {},
   "outputs": [
    {
     "data": {
      "text/plain": [
       "[{'DataValue': 9.7, 'LocationDesc': 'Alabama'},\n",
       " {'DataValue': 8.8, 'LocationDesc': 'Alaska'},\n",
       " {'DataValue': 9.4, 'LocationDesc': 'Arizona'},\n",
       " {'DataValue': 8.5, 'LocationDesc': 'Arkansas'},\n",
       " {'DataValue': 7.8, 'LocationDesc': 'California'},\n",
       " {'DataValue': 8.8, 'LocationDesc': 'Colorado'},\n",
       " {'DataValue': 10.5, 'LocationDesc': 'Connecticut'},\n",
       " {'DataValue': 8.5, 'LocationDesc': 'Delaware'},\n",
       " {'DataValue': 9.8, 'LocationDesc': 'District of Columbia'},\n",
       " {'DataValue': 6.7, 'LocationDesc': 'Florida'},\n",
       " {'DataValue': 8.5, 'LocationDesc': 'Georgia'},\n",
       " {'DataValue': 10.7, 'LocationDesc': 'Hawaii'},\n",
       " {'DataValue': 9.3, 'LocationDesc': 'Idaho'},\n",
       " {'DataValue': 8.9, 'LocationDesc': 'Illinois'},\n",
       " {'DataValue': 10.2, 'LocationDesc': 'Indiana'},\n",
       " {'DataValue': 7.8, 'LocationDesc': 'Iowa'},\n",
       " {'DataValue': 8.8, 'LocationDesc': 'Kansas'},\n",
       " {'DataValue': 11.6, 'LocationDesc': 'Kentucky'},\n",
       " {'DataValue': 8.3, 'LocationDesc': 'Louisiana'},\n",
       " {'DataValue': 12.2, 'LocationDesc': 'Maine'},\n",
       " {'DataValue': 9.4, 'LocationDesc': 'Maryland'},\n",
       " {'DataValue': 10.3, 'LocationDesc': 'Massachusetts'},\n",
       " {'DataValue': 10.9, 'LocationDesc': 'Michigan'},\n",
       " {'DataValue': 7.6, 'LocationDesc': 'Minnesota'},\n",
       " {'DataValue': 8.0, 'LocationDesc': 'Mississippi'},\n",
       " {'DataValue': 9.9, 'LocationDesc': 'Missouri'},\n",
       " {'DataValue': 8.5, 'LocationDesc': 'Montana'},\n",
       " {'DataValue': 8.3, 'LocationDesc': 'Nebraska'},\n",
       " {'DataValue': 7.9, 'LocationDesc': 'Nevada'},\n",
       " {'DataValue': 11.4, 'LocationDesc': 'New Hampshire'},\n",
       " {'DataValue': 8.2, 'LocationDesc': 'New Jersey'},\n",
       " {'DataValue': 11.8, 'LocationDesc': 'New Mexico'},\n",
       " {'DataValue': 9.5, 'LocationDesc': 'New York'},\n",
       " {'DataValue': 8.0, 'LocationDesc': 'North Carolina'},\n",
       " {'DataValue': 9.0, 'LocationDesc': 'North Dakota'},\n",
       " {'DataValue': 9.7, 'LocationDesc': 'Ohio'},\n",
       " {'DataValue': 10.0, 'LocationDesc': 'Oklahoma'},\n",
       " {'DataValue': 10.5, 'LocationDesc': 'Oregon'},\n",
       " {'DataValue': 10.6, 'LocationDesc': 'Pennsylvania'},\n",
       " {'DataValue': 10.7, 'LocationDesc': 'Rhode Island'},\n",
       " {'DataValue': 8.8, 'LocationDesc': 'South Carolina'},\n",
       " {'DataValue': 6.2, 'LocationDesc': 'South Dakota'},\n",
       " {'DataValue': 10.9, 'LocationDesc': 'Tennessee'},\n",
       " {'DataValue': 7.6, 'LocationDesc': 'Texas'},\n",
       " {'DataValue': 8.2, 'LocationDesc': 'Utah'},\n",
       " {'DataValue': 10.2, 'LocationDesc': 'Vermont'},\n",
       " {'DataValue': 8.6, 'LocationDesc': 'Virginia'},\n",
       " {'DataValue': 9.6, 'LocationDesc': 'Washington'},\n",
       " {'DataValue': 11.8, 'LocationDesc': 'West Virginia'},\n",
       " {'DataValue': 8.5, 'LocationDesc': 'Wisconsin'},\n",
       " {'DataValue': 9.5, 'LocationDesc': 'Wyoming'},\n",
       " {'DataValue': 5.1, 'LocationDesc': 'Guam'},\n",
       " {'DataValue': 10.7, 'LocationDesc': 'Puerto Rico'},\n",
       " {'DataValue': 6.3, 'LocationDesc': 'Virgin Islands'}]"
      ]
     },
     "execution_count": 79,
     "metadata": {},
     "output_type": "execute_result"
    }
   ],
   "source": [
    "# Your code here (create additional cells as needed)\n",
    "plot_data = []\n",
    "for index, row in filtered_df.iterrows():\n",
    "    data_value = float(row['DataValue'])\n",
    "    location_desc = row['LocationDesc']\n",
    "    plot_data.append({'DataValue': data_value, 'LocationDesc': location_desc})\n",
    "\n",
    "plot_data"
   ]
  },
  {
   "cell_type": "markdown",
   "metadata": {},
   "source": [
    "## Find Top 10 States\n",
    "\n",
    "Sort by `'DataValue'` and limit to the first 10 records."
   ]
  },
  {
   "cell_type": "code",
   "execution_count": 81,
   "metadata": {},
   "outputs": [],
   "source": [
    "# Your code here (add additional cells as needed)\n",
    "# creating a data frame for the plot_data\n",
    "\n",
    "plot_df = pd.DataFrame(plot_data)\n",
    "#plot_df.head()\n"
   ]
  },
  {
   "cell_type": "markdown",
   "metadata": {},
   "source": [
    " Sorting by DataValue and limited to first 10 records"
   ]
  },
  {
   "cell_type": "code",
   "execution_count": 83,
   "metadata": {},
   "outputs": [
    {
     "name": "stdout",
     "output_type": "stream",
     "text": [
      "The first ten records sorted by DataValue are: \n",
      "    DataValue   LocationDesc\n",
      "19       12.2          Maine\n",
      "31       11.8     New Mexico\n",
      "48       11.8  West Virginia\n",
      "17       11.6       Kentucky\n",
      "29       11.4  New Hampshire\n",
      "42       10.9      Tennessee\n",
      "22       10.9       Michigan\n",
      "11       10.7         Hawaii\n",
      "52       10.7    Puerto Rico\n",
      "39       10.7   Rhode Island.\n"
     ]
    }
   ],
   "source": [
    "top_10_states = plot_df.sort_values('DataValue', ascending=False).head(10)\n",
    "print(f\"The first ten records sorted by DataValue are: \\n{top_10_states}.\")"
   ]
  },
  {
   "cell_type": "markdown",
   "metadata": {},
   "source": [
    "## Separate the Names and Values for Plotting\n",
    "\n",
    "Assign the names of the top 10 states to a list-like variable `names`, and the associated values to a list-like variable `values`. Then the plotting code below should work correctly to make the desired bar graph."
   ]
  },
  {
   "cell_type": "code",
   "execution_count": 84,
   "metadata": {},
   "outputs": [],
   "source": [
    "# Replace None with appropriate code\n",
    "\n",
    "names = top_10_states['LocationDesc'].tolist()\n",
    "values = top_10_states['DataValue'].tolist()"
   ]
  },
  {
   "cell_type": "code",
   "execution_count": 85,
   "metadata": {},
   "outputs": [
    {
     "data": {
      "image/png": "[encoded data removed]",
      "text/plain": [
       "<Figure size 640x480 with 1 Axes>"
      ]
     },
     "metadata": {},
     "output_type": "display_data"
    }
   ],
   "source": [
    "# Run this cell without changes\n",
    "\n",
    "import matplotlib.pyplot as plt\n",
    "fig, ax = plt.subplots()\n",
    "\n",
    "ax.barh(names[::-1], values[::-1]) # Values inverted so highest is at top\n",
    "ax.set_title('Adult Asthma Rates by State in 2016')\n",
    "ax.set_xlabel('Percent 18+ with Asthma');"
   ]
  },
  {
   "cell_type": "markdown",
   "metadata": {},
   "source": [
    "## Summary\n",
    "\n",
    "In this lab you got some extended practice exploring the structure of JSON files and visualizing data."
   ]
  }
 ],
 "metadata": {
  "kernelspec": {
   "display_name": "Python 3 (ipykernel)",
   "language": "python",
   "name": "python3"
  },
  "language_info": {
   "codemirror_mode": {
    "name": "ipython",
    "version": 3
   },
   "file_extension": ".py",
   "mimetype": "text/x-python",
   "name": "python",
   "nbconvert_exporter": "python",
   "pygments_lexer": "ipython3",
   "version": "3.9.13"
  },
  "toc": {
   "base_numbering": 1,
   "nav_menu": {},
   "number_sections": true,
   "sideBar": true,
   "skip_h1_title": false,
   "title_cell": "Table of Contents",
   "title_sidebar": "Contents",
   "toc_cell": false,
   "toc_position": {},
   "toc_section_display": true,
   "toc_window_display": false
  }
 },
 "nbformat": 4,
 "nbformat_minor": 4
}
